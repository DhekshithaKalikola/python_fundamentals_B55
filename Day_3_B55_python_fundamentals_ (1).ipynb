{
 "cells": [
  {
   "cell_type": "code",
   "execution_count": null,
   "id": "ac3d683a",
   "metadata": {},
   "outputs": [],
   "source": [
    "Introduction to string methods:\n",
    "    1. type() - it is used to validate the datatype"
   ]
  },
  {
   "cell_type": "code",
   "execution_count": 3,
   "id": "53b2e3d0",
   "metadata": {},
   "outputs": [
    {
     "name": "stdout",
     "output_type": "stream",
     "text": [
      "<class 'str'>\n"
     ]
    }
   ],
   "source": [
    "name = 'Fayaz'\n",
    "print(type(name))"
   ]
  },
  {
   "cell_type": "code",
   "execution_count": null,
   "id": "a85a5f9d",
   "metadata": {},
   "outputs": [],
   "source": [
    "2. title():"
   ]
  },
  {
   "cell_type": "code",
   "execution_count": 4,
   "id": "8b9c03c2",
   "metadata": {},
   "outputs": [
    {
     "name": "stdout",
     "output_type": "stream",
     "text": [
      "Fayaz\n"
     ]
    }
   ],
   "source": [
    "print(name.title())"
   ]
  },
  {
   "cell_type": "code",
   "execution_count": null,
   "id": "ca60850d",
   "metadata": {},
   "outputs": [],
   "source": [
    "3. upper()- to get complete name in capital letters"
   ]
  },
  {
   "cell_type": "code",
   "execution_count": 5,
   "id": "ad68f42b",
   "metadata": {},
   "outputs": [
    {
     "name": "stdout",
     "output_type": "stream",
     "text": [
      "FAYAZ\n"
     ]
    }
   ],
   "source": [
    "print(name.upper())"
   ]
  },
  {
   "cell_type": "code",
   "execution_count": null,
   "id": "3f141d4a",
   "metadata": {},
   "outputs": [],
   "source": [
    "4. lower()- to get complete name in lowercase letters"
   ]
  },
  {
   "cell_type": "code",
   "execution_count": 6,
   "id": "e28e90f8",
   "metadata": {},
   "outputs": [
    {
     "name": "stdout",
     "output_type": "stream",
     "text": [
      "fayaz\n"
     ]
    }
   ],
   "source": [
    "print(name.lower())"
   ]
  },
  {
   "cell_type": "code",
   "execution_count": null,
   "id": "2e074f3d",
   "metadata": {},
   "outputs": [],
   "source": [
    "Introduction to f strings :"
   ]
  },
  {
   "cell_type": "code",
   "execution_count": null,
   "id": "4728788d",
   "metadata": {},
   "outputs": [],
   "source": [
    "syntax : f \" custom words {placeholder1} {placeholder2}  ..... {placeholdern}\""
   ]
  },
  {
   "cell_type": "code",
   "execution_count": 14,
   "id": "ae7b947f",
   "metadata": {},
   "outputs": [
    {
     "name": "stdout",
     "output_type": "stream",
     "text": [
      "dhekshifayaz\n"
     ]
    }
   ],
   "source": [
    "firstname = 'dhekshi'\n",
    "lastname = 'fayaz'\n",
    "fullname = f\"{firstname}{lastname}\"\n",
    "print(fullname)"
   ]
  },
  {
   "cell_type": "code",
   "execution_count": null,
   "id": "65ed93a5",
   "metadata": {},
   "outputs": [],
   "source": []
  },
  {
   "cell_type": "code",
   "execution_count": 16,
   "id": "2510f256",
   "metadata": {},
   "outputs": [
    {
     "name": "stdout",
     "output_type": "stream",
     "text": [
      "keep it up, dhekshifayaz\n"
     ]
    }
   ],
   "source": [
    "msg = f\"keep it up, {fullname}\"\n",
    "print(msg)"
   ]
  },
  {
   "cell_type": "code",
   "execution_count": null,
   "id": "915c3d56",
   "metadata": {},
   "outputs": [],
   "source": [
    "Adding whitespaces to the strings :\n",
    "    \\n - newline\n",
    "    \\t - tab space"
   ]
  },
  {
   "cell_type": "code",
   "execution_count": 17,
   "id": "86c6e2d1",
   "metadata": {},
   "outputs": [
    {
     "name": "stdout",
     "output_type": "stream",
     "text": [
      "family:saichinnufayazayesharizwana\n"
     ]
    }
   ],
   "source": [
    "print(\"family:saichinnufayazayesharizwana\")"
   ]
  },
  {
   "cell_type": "code",
   "execution_count": 18,
   "id": "a8d956bf",
   "metadata": {},
   "outputs": [
    {
     "name": "stdout",
     "output_type": "stream",
     "text": [
      "family:\n",
      "sai\n",
      "chinnu\n",
      "fayaz\n",
      "ayesha\n",
      "rizwana\n"
     ]
    }
   ],
   "source": [
    "print(\"family:\\nsai\\nchinnu\\nfayaz\\nayesha\\nrizwana\")"
   ]
  },
  {
   "cell_type": "code",
   "execution_count": 19,
   "id": "e09d3918",
   "metadata": {},
   "outputs": [
    {
     "name": "stdout",
     "output_type": "stream",
     "text": [
      "family:\n",
      "\tsai\n",
      "\tchinnu\n",
      "\tfayaz\n",
      "\tayesha\n",
      "\trizwana\n"
     ]
    }
   ],
   "source": [
    "print(\"family:\\n\\tsai\\n\\tchinnu\\n\\tfayaz\\n\\tayesha\\n\\trizwana\")"
   ]
  },
  {
   "cell_type": "code",
   "execution_count": null,
   "id": "f37f0b82",
   "metadata": {},
   "outputs": [],
   "source": [
    "Removing whitespaces from the string :"
   ]
  },
  {
   "cell_type": "markdown",
   "id": "6b781542",
   "metadata": {},
   "source": [
    "1.lstrip()\n",
    "2.rstrip()\n",
    "3.strip()"
   ]
  },
  {
   "cell_type": "code",
   "execution_count": 21,
   "id": "4351aca7",
   "metadata": {},
   "outputs": [
    {
     "name": "stdout",
     "output_type": "stream",
     "text": [
      "   fayaz\n"
     ]
    }
   ],
   "source": [
    "name = '   fayaz'\n",
    "print(name)\n"
   ]
  },
  {
   "cell_type": "code",
   "execution_count": 22,
   "id": "b91e23e0",
   "metadata": {},
   "outputs": [
    {
     "name": "stdout",
     "output_type": "stream",
     "text": [
      "fayaz\n"
     ]
    }
   ],
   "source": [
    "print(name.lstrip())"
   ]
  },
  {
   "cell_type": "code",
   "execution_count": 23,
   "id": "2c215651",
   "metadata": {},
   "outputs": [
    {
     "name": "stdout",
     "output_type": "stream",
     "text": [
      "fayaz   \n"
     ]
    }
   ],
   "source": [
    "name1 = 'fayaz   '\n",
    "print(name1)"
   ]
  },
  {
   "cell_type": "code",
   "execution_count": 24,
   "id": "1900f010",
   "metadata": {},
   "outputs": [
    {
     "name": "stdout",
     "output_type": "stream",
     "text": [
      "fayaz\n"
     ]
    }
   ],
   "source": [
    "print(name1.rstrip())"
   ]
  },
  {
   "cell_type": "code",
   "execution_count": 25,
   "id": "eb26c703",
   "metadata": {},
   "outputs": [
    {
     "name": "stdout",
     "output_type": "stream",
     "text": [
      "   fayaz   \n"
     ]
    }
   ],
   "source": [
    "name2 = '   fayaz   '\n",
    "print(name2)"
   ]
  },
  {
   "cell_type": "code",
   "execution_count": 26,
   "id": "7499f243",
   "metadata": {},
   "outputs": [
    {
     "name": "stdout",
     "output_type": "stream",
     "text": [
      "fayaz\n"
     ]
    }
   ],
   "source": [
    "print(name2.strip())"
   ]
  },
  {
   "cell_type": "code",
   "execution_count": null,
   "id": "53c00e6e",
   "metadata": {},
   "outputs": [],
   "source": []
  }
 ],
 "metadata": {
  "kernelspec": {
   "display_name": "Python 3 (ipykernel)",
   "language": "python",
   "name": "python3"
  },
  "language_info": {
   "codemirror_mode": {
    "name": "ipython",
    "version": 3
   },
   "file_extension": ".py",
   "mimetype": "text/x-python",
   "name": "python",
   "nbconvert_exporter": "python",
   "pygments_lexer": "ipython3",
   "version": "3.9.7"
  }
 },
 "nbformat": 4,
 "nbformat_minor": 5
}
