{
 "cells": [
  {
   "cell_type": "code",
   "execution_count": null,
   "id": "34b0ad65",
   "metadata": {},
   "outputs": [],
   "source": [
    "Organising the list data type :"
   ]
  },
  {
   "cell_type": "code",
   "execution_count": 1,
   "id": "2a7a0173",
   "metadata": {},
   "outputs": [],
   "source": [
    "subjects = ['maths','english','physics','chemistry','biology']"
   ]
  },
  {
   "cell_type": "code",
   "execution_count": 2,
   "id": "725678a5",
   "metadata": {},
   "outputs": [
    {
     "name": "stdout",
     "output_type": "stream",
     "text": [
      "['maths', 'english', 'physics', 'chemistry', 'biology']\n"
     ]
    }
   ],
   "source": [
    "print(subjects)"
   ]
  },
  {
   "cell_type": "code",
   "execution_count": null,
   "id": "45e88dd5",
   "metadata": {},
   "outputs": [],
   "source": [
    "#To get the list in alphabetical order there are two methods\n",
    "1. temporary method - sorted() -we will get the list declared initially after performing this method\n",
    "2. permanent method - sort() - permanently changed to alphabetical order"
   ]
  },
  {
   "cell_type": "code",
   "execution_count": 3,
   "id": "b8a0b676",
   "metadata": {},
   "outputs": [
    {
     "name": "stdout",
     "output_type": "stream",
     "text": [
      "['biology', 'chemistry', 'english', 'maths', 'physics']\n"
     ]
    }
   ],
   "source": [
    "print(sorted(subjects))"
   ]
  },
  {
   "cell_type": "code",
   "execution_count": 4,
   "id": "94144c71",
   "metadata": {},
   "outputs": [
    {
     "name": "stdout",
     "output_type": "stream",
     "text": [
      "['maths', 'english', 'physics', 'chemistry', 'biology']\n"
     ]
    }
   ],
   "source": [
    "print(subjects)"
   ]
  },
  {
   "cell_type": "code",
   "execution_count": null,
   "id": "dceea8d8",
   "metadata": {},
   "outputs": [],
   "source": [
    "# sorted() method sorts the list only once again when we print the list it will get printed in original order"
   ]
  },
  {
   "cell_type": "code",
   "execution_count": 5,
   "id": "042aeef6",
   "metadata": {},
   "outputs": [],
   "source": [
    "subjects.sort()"
   ]
  },
  {
   "cell_type": "code",
   "execution_count": 6,
   "id": "aee41821",
   "metadata": {},
   "outputs": [
    {
     "name": "stdout",
     "output_type": "stream",
     "text": [
      "['biology', 'chemistry', 'english', 'maths', 'physics']\n"
     ]
    }
   ],
   "source": [
    "print(subjects)"
   ]
  },
  {
   "cell_type": "code",
   "execution_count": 7,
   "id": "ef7a64e4",
   "metadata": {},
   "outputs": [
    {
     "name": "stdout",
     "output_type": "stream",
     "text": [
      "['biology', 'chemistry', 'english', 'maths', 'physics']\n"
     ]
    }
   ],
   "source": [
    "print(subjects)"
   ]
  },
  {
   "cell_type": "code",
   "execution_count": null,
   "id": "4a368f55",
   "metadata": {},
   "outputs": [],
   "source": [
    "# sort() method permanently changes the list into alphabetical order\n",
    "# This is the difference between sorted() and sort() methods"
   ]
  },
  {
   "cell_type": "code",
   "execution_count": null,
   "id": "295dbdb5",
   "metadata": {},
   "outputs": [],
   "source": [
    "# print list in  reverse order - reverse() method"
   ]
  },
  {
   "cell_type": "code",
   "execution_count": 8,
   "id": "fa687dc7",
   "metadata": {},
   "outputs": [],
   "source": [
    "subjects.reverse()"
   ]
  },
  {
   "cell_type": "code",
   "execution_count": 9,
   "id": "2cd4c0c2",
   "metadata": {},
   "outputs": [
    {
     "name": "stdout",
     "output_type": "stream",
     "text": [
      "['physics', 'maths', 'english', 'chemistry', 'biology']\n"
     ]
    }
   ],
   "source": [
    "print(subjects)"
   ]
  },
  {
   "cell_type": "code",
   "execution_count": null,
   "id": "c450ecff",
   "metadata": {},
   "outputs": [],
   "source": [
    "how to know the count of elements in the list ? - len() method"
   ]
  },
  {
   "cell_type": "code",
   "execution_count": 10,
   "id": "dd6f638e",
   "metadata": {},
   "outputs": [
    {
     "data": {
      "text/plain": [
       "5"
      ]
     },
     "execution_count": 10,
     "metadata": {},
     "output_type": "execute_result"
    }
   ],
   "source": [
    "len(subjects)"
   ]
  },
  {
   "cell_type": "code",
   "execution_count": null,
   "id": "614ab884",
   "metadata": {},
   "outputs": [],
   "source": [
    "Introduction to slicing of list :"
   ]
  },
  {
   "cell_type": "code",
   "execution_count": null,
   "id": "30c73a68",
   "metadata": {},
   "outputs": [],
   "source": [
    "general syntax of slicing :\n",
    "    startvalue:stopvalue:stepcount"
   ]
  },
  {
   "cell_type": "code",
   "execution_count": null,
   "id": "762e153e",
   "metadata": {},
   "outputs": [],
   "source": [
    "stopvalue/lastvalue is always 'exclusive'"
   ]
  },
  {
   "cell_type": "code",
   "execution_count": 11,
   "id": "b88eba5a",
   "metadata": {},
   "outputs": [],
   "source": [
    "languages = ['hindi','telugu','marathi','english','kannada','malayalam','tamil','gujarati']"
   ]
  },
  {
   "cell_type": "code",
   "execution_count": 12,
   "id": "4de301aa",
   "metadata": {},
   "outputs": [
    {
     "name": "stdout",
     "output_type": "stream",
     "text": [
      "['hindi', 'telugu']\n"
     ]
    }
   ],
   "source": [
    "# print hindi telugu and marati\n",
    "print(languages[0:2])"
   ]
  },
  {
   "cell_type": "code",
   "execution_count": 13,
   "id": "d3b5302c",
   "metadata": {},
   "outputs": [
    {
     "name": "stdout",
     "output_type": "stream",
     "text": [
      "['hindi', 'telugu', 'marathi']\n"
     ]
    }
   ],
   "source": [
    "#here 2  last value is exclusive, if we want to print the last value we have increment the stop value by 1\n",
    "print(languages[0:3])"
   ]
  },
  {
   "cell_type": "code",
   "execution_count": 14,
   "id": "216f300b",
   "metadata": {},
   "outputs": [
    {
     "name": "stdout",
     "output_type": "stream",
     "text": [
      "['hindi', 'marathi', 'kannada', 'tamil']\n"
     ]
    }
   ],
   "source": [
    "#using step count we can skip elements in the list\n",
    "print(languages[0:7:2])"
   ]
  },
  {
   "cell_type": "code",
   "execution_count": 18,
   "id": "463595a5",
   "metadata": {},
   "outputs": [
    {
     "name": "stdout",
     "output_type": "stream",
     "text": [
      "gujarati\n"
     ]
    }
   ],
   "source": [
    "#there is also negative indexing in list\n",
    "print(languages[-1])"
   ]
  },
  {
   "cell_type": "code",
   "execution_count": null,
   "id": "309377c3",
   "metadata": {},
   "outputs": [],
   "source": []
  },
  {
   "cell_type": "code",
   "execution_count": null,
   "id": "6d6fa604",
   "metadata": {},
   "outputs": [],
   "source": []
  }
 ],
 "metadata": {
  "kernelspec": {
   "display_name": "Python 3 (ipykernel)",
   "language": "python",
   "name": "python3"
  },
  "language_info": {
   "codemirror_mode": {
    "name": "ipython",
    "version": 3
   },
   "file_extension": ".py",
   "mimetype": "text/x-python",
   "name": "python",
   "nbconvert_exporter": "python",
   "pygments_lexer": "ipython3",
   "version": "3.9.7"
  }
 },
 "nbformat": 4,
 "nbformat_minor": 5
}
