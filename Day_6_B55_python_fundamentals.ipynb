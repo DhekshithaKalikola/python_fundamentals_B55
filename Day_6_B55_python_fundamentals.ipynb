{
 "cells": [
  {
   "cell_type": "code",
   "execution_count": null,
   "id": "f755cf6b",
   "metadata": {},
   "outputs": [],
   "source": [
    "Introduction to looping statements :"
   ]
  },
  {
   "cell_type": "code",
   "execution_count": 1,
   "id": "0dfb1a4e",
   "metadata": {},
   "outputs": [],
   "source": [
    "fruits = ['apple','banana','guava','grapes','pomegranate','mango']"
   ]
  },
  {
   "cell_type": "code",
   "execution_count": null,
   "id": "5c895f90",
   "metadata": {},
   "outputs": [],
   "source": [
    "# general syntax of the for loop :\n",
    "for tempvar in mainvar:\n",
    "    print(tempvar)"
   ]
  },
  {
   "cell_type": "code",
   "execution_count": 2,
   "id": "62aad3ed",
   "metadata": {},
   "outputs": [
    {
     "name": "stdout",
     "output_type": "stream",
     "text": [
      "apple\n",
      "banana\n",
      "guava\n",
      "grapes\n",
      "pomegranate\n",
      "mango\n"
     ]
    }
   ],
   "source": [
    "for x in fruits :\n",
    "    print(x)"
   ]
  },
  {
   "cell_type": "code",
   "execution_count": 4,
   "id": "d684ff5e",
   "metadata": {},
   "outputs": [
    {
     "name": "stdout",
     "output_type": "stream",
     "text": [
      "All fruits are good for health, apple\n",
      "All fruits are good for health, banana\n",
      "All fruits are good for health, guava\n",
      "All fruits are good for health, grapes\n",
      "All fruits are good for health, pomegranate\n",
      "All fruits are good for health, mango\n"
     ]
    }
   ],
   "source": [
    "for i in fruits:\n",
    "    print(f\"All fruits are good for health, {i}\")"
   ]
  },
  {
   "cell_type": "code",
   "execution_count": 15,
   "id": "57a327d6",
   "metadata": {},
   "outputs": [],
   "source": [
    "names = ['fayaz', 'Raji']"
   ]
  },
  {
   "cell_type": "code",
   "execution_count": 16,
   "id": "ae531ad2",
   "metadata": {},
   "outputs": [
    {
     "name": "stdout",
     "output_type": "stream",
     "text": [
      "I love fayaz\n",
      "I love Raji\n"
     ]
    }
   ],
   "source": [
    "for i in names:\n",
    "    print(f\"I love {i}\")"
   ]
  },
  {
   "cell_type": "code",
   "execution_count": null,
   "id": "6661d2e9",
   "metadata": {},
   "outputs": [],
   "source": []
  },
  {
   "cell_type": "code",
   "execution_count": null,
   "id": "40d70c6a",
   "metadata": {},
   "outputs": [],
   "source": []
  }
 ],
 "metadata": {
  "kernelspec": {
   "display_name": "Python 3 (ipykernel)",
   "language": "python",
   "name": "python3"
  },
  "language_info": {
   "codemirror_mode": {
    "name": "ipython",
    "version": 3
   },
   "file_extension": ".py",
   "mimetype": "text/x-python",
   "name": "python",
   "nbconvert_exporter": "python",
   "pygments_lexer": "ipython3",
   "version": "3.9.7"
  }
 },
 "nbformat": 4,
 "nbformat_minor": 5
}
