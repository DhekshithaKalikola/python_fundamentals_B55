{
 "cells": [
  {
   "cell_type": "code",
   "execution_count": 1,
   "id": "8401d21f",
   "metadata": {},
   "outputs": [
    {
     "name": "stdout",
     "output_type": "stream",
     "text": [
      "Learning python programming\n"
     ]
    }
   ],
   "source": [
    "print(\"Learning python programming\")"
   ]
  },
  {
   "cell_type": "code",
   "execution_count": 2,
   "id": "ba5dbc21",
   "metadata": {},
   "outputs": [
    {
     "name": "stdout",
     "output_type": "stream",
     "text": [
      "This is Dhekshitha\n"
     ]
    }
   ],
   "source": [
    "print(\"This\",\"is\",\"Dhekshitha\")"
   ]
  },
  {
   "cell_type": "code",
   "execution_count": 4,
   "id": "e5cca177",
   "metadata": {},
   "outputs": [
    {
     "name": "stdout",
     "output_type": "stream",
     "text": [
      "Hello world Hello world \n"
     ]
    }
   ],
   "source": [
    "print(\"Hello world \"*2)"
   ]
  },
  {
   "cell_type": "code",
   "execution_count": null,
   "id": "4e64df40",
   "metadata": {},
   "outputs": [],
   "source": []
  }
 ],
 "metadata": {
  "kernelspec": {
   "display_name": "Python 3 (ipykernel)",
   "language": "python",
   "name": "python3"
  },
  "language_info": {
   "codemirror_mode": {
    "name": "ipython",
    "version": 3
   },
   "file_extension": ".py",
   "mimetype": "text/x-python",
   "name": "python",
   "nbconvert_exporter": "python",
   "pygments_lexer": "ipython3",
   "version": "3.9.7"
  }
 },
 "nbformat": 4,
 "nbformat_minor": 5
}
