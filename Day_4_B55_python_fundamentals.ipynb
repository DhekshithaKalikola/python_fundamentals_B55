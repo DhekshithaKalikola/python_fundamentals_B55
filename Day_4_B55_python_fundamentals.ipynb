{
 "cells": [
  {
   "cell_type": "code",
   "execution_count": null,
   "id": "1dab4c97",
   "metadata": {},
   "outputs": [],
   "source": [
    "Introduction to List data type:\n",
    "    Definition : List is a collection of elements in a particular order enclosed by [].\n",
    "        classification : It is a mutable data type."
   ]
  },
  {
   "cell_type": "code",
   "execution_count": null,
   "id": "1dea2c65",
   "metadata": {},
   "outputs": [],
   "source": [
    "Indexing:"
   ]
  },
  {
   "cell_type": "code",
   "execution_count": 2,
   "id": "de30fbb1",
   "metadata": {},
   "outputs": [],
   "source": [
    "list1 = ['a','b','c','d','e']"
   ]
  },
  {
   "cell_type": "code",
   "execution_count": 3,
   "id": "9bd1e3e9",
   "metadata": {},
   "outputs": [
    {
     "name": "stdout",
     "output_type": "stream",
     "text": [
      "['a', 'b', 'c', 'd', 'e']\n"
     ]
    }
   ],
   "source": [
    "print(list1)"
   ]
  },
  {
   "cell_type": "code",
   "execution_count": null,
   "id": "10d83f2f",
   "metadata": {},
   "outputs": [],
   "source": [
    "append() :"
   ]
  },
  {
   "cell_type": "code",
   "execution_count": 23,
   "id": "54c3ef60",
   "metadata": {},
   "outputs": [
    {
     "name": "stdout",
     "output_type": "stream",
     "text": [
      "['a', 'b', 'c', 'd', 'e', 'n']\n"
     ]
    }
   ],
   "source": [
    "list1.append('n')\n",
    "print(list1)"
   ]
  },
  {
   "cell_type": "code",
   "execution_count": 28,
   "id": "dd253955",
   "metadata": {},
   "outputs": [
    {
     "name": "stdout",
     "output_type": "stream",
     "text": [
      "['a', 'b', 'c', 'd', 'e', 'n', 'p']\n"
     ]
    }
   ],
   "source": [
    "list1.append('p')\n",
    "print(list1)"
   ]
  },
  {
   "cell_type": "code",
   "execution_count": null,
   "id": "5c3cc0a0",
   "metadata": {},
   "outputs": [],
   "source": [
    "insert():"
   ]
  },
  {
   "cell_type": "code",
   "execution_count": 29,
   "id": "fbb7f91d",
   "metadata": {},
   "outputs": [
    {
     "name": "stdout",
     "output_type": "stream",
     "text": [
      "['a', 'b', 'c', 'd', 'f', 'e', 'n', 'p']\n"
     ]
    }
   ],
   "source": [
    "list1.insert(4,'f')\n",
    "print(list1)"
   ]
  },
  {
   "cell_type": "code",
   "execution_count": null,
   "id": "cedfd3e2",
   "metadata": {},
   "outputs": [],
   "source": [
    "modifying list :"
   ]
  },
  {
   "cell_type": "code",
   "execution_count": 30,
   "id": "dc1363ef",
   "metadata": {},
   "outputs": [
    {
     "name": "stdout",
     "output_type": "stream",
     "text": [
      "['a', 'b', 'c', 'm', 'f', 'e', 'n', 'p']\n"
     ]
    }
   ],
   "source": [
    "list1[3] = 'm'\n",
    "print(list1)"
   ]
  },
  {
   "cell_type": "code",
   "execution_count": null,
   "id": "56f669a6",
   "metadata": {},
   "outputs": [],
   "source": [
    "deleting elements in the list :"
   ]
  },
  {
   "cell_type": "code",
   "execution_count": 31,
   "id": "ee2a903f",
   "metadata": {},
   "outputs": [
    {
     "name": "stdout",
     "output_type": "stream",
     "text": [
      "['a', 'b', 'c', 'f', 'e', 'n', 'p']\n"
     ]
    }
   ],
   "source": [
    "del list1[3]\n",
    "print(list1)"
   ]
  },
  {
   "cell_type": "code",
   "execution_count": null,
   "id": "4e9a0d02",
   "metadata": {},
   "outputs": [],
   "source": []
  }
 ],
 "metadata": {
  "kernelspec": {
   "display_name": "Python 3 (ipykernel)",
   "language": "python",
   "name": "python3"
  },
  "language_info": {
   "codemirror_mode": {
    "name": "ipython",
    "version": 3
   },
   "file_extension": ".py",
   "mimetype": "text/x-python",
   "name": "python",
   "nbconvert_exporter": "python",
   "pygments_lexer": "ipython3",
   "version": "3.9.7"
  }
 },
 "nbformat": 4,
 "nbformat_minor": 5
}
