{
 "cells": [
  {
   "cell_type": "code",
   "execution_count": null,
   "id": "683abe4a",
   "metadata": {},
   "outputs": [],
   "source": [
    "Python Programming"
   ]
  },
  {
   "cell_type": "code",
   "execution_count": null,
   "id": "0b8b974f",
   "metadata": {},
   "outputs": [],
   "source": [
    "Understanding variables in python :"
   ]
  },
  {
   "cell_type": "code",
   "execution_count": 1,
   "id": "df51b847",
   "metadata": {},
   "outputs": [
    {
     "data": {
      "text/plain": [
       "9"
      ]
     },
     "execution_count": 1,
     "metadata": {},
     "output_type": "execute_result"
    }
   ],
   "source": [
    "a = 5\n",
    "b = 4\n",
    "a+b"
   ]
  },
  {
   "cell_type": "code",
   "execution_count": null,
   "id": "599f5bf4",
   "metadata": {},
   "outputs": [],
   "source": [
    "the values 5 and 4 are stored in the variables a and b . variables are used to store the values"
   ]
  },
  {
   "cell_type": "code",
   "execution_count": null,
   "id": "59f3ca78",
   "metadata": {},
   "outputs": [],
   "source": [
    "Rules for variables in python :\n",
    "    1. No name spaces in  variable names"
   ]
  },
  {
   "cell_type": "code",
   "execution_count": 3,
   "id": "a0efc1f5",
   "metadata": {
    "scrolled": true
   },
   "outputs": [
    {
     "ename": "SyntaxError",
     "evalue": "invalid syntax (Temp/ipykernel_3140/512356201.py, line 1)",
     "output_type": "error",
     "traceback": [
      "\u001b[1;36m  File \u001b[1;32m\"C:\\Users\\HCL\\AppData\\Local\\Temp/ipykernel_3140/512356201.py\"\u001b[1;36m, line \u001b[1;32m1\u001b[0m\n\u001b[1;33m    my name = 'dhekshi'\u001b[0m\n\u001b[1;37m       ^\u001b[0m\n\u001b[1;31mSyntaxError\u001b[0m\u001b[1;31m:\u001b[0m invalid syntax\n"
     ]
    }
   ],
   "source": [
    "my name = 'dhekshi'\n",
    "print(my name)"
   ]
  },
  {
   "cell_type": "code",
   "execution_count": 5,
   "id": "868c0c02",
   "metadata": {},
   "outputs": [
    {
     "name": "stdout",
     "output_type": "stream",
     "text": [
      "dhekshi\n"
     ]
    }
   ],
   "source": [
    "myname ='dhekshi'\n",
    "print(myname)"
   ]
  },
  {
   "cell_type": "code",
   "execution_count": null,
   "id": "c57f5e58",
   "metadata": {},
   "outputs": [],
   "source": [
    "2. variable name should not start with a digit(0-9)"
   ]
  },
  {
   "cell_type": "code",
   "execution_count": 8,
   "id": "c32e8e84",
   "metadata": {},
   "outputs": [
    {
     "ename": "SyntaxError",
     "evalue": "invalid syntax (Temp/ipykernel_3140/736952680.py, line 1)",
     "output_type": "error",
     "traceback": [
      "\u001b[1;36m  File \u001b[1;32m\"C:\\Users\\HCL\\AppData\\Local\\Temp/ipykernel_3140/736952680.py\"\u001b[1;36m, line \u001b[1;32m1\u001b[0m\n\u001b[1;33m    5name = 'ayesha'\u001b[0m\n\u001b[1;37m     ^\u001b[0m\n\u001b[1;31mSyntaxError\u001b[0m\u001b[1;31m:\u001b[0m invalid syntax\n"
     ]
    }
   ],
   "source": [
    "5name = 'ayesha'\n",
    "print(5name)"
   ]
  },
  {
   "cell_type": "code",
   "execution_count": 7,
   "id": "082480fc",
   "metadata": {},
   "outputs": [
    {
     "name": "stdout",
     "output_type": "stream",
     "text": [
      "ayesha\n"
     ]
    }
   ],
   "source": [
    "name_5 = 'ayesha'\n",
    "print(name_5)"
   ]
  },
  {
   "cell_type": "code",
   "execution_count": null,
   "id": "9c3fd8da",
   "metadata": {},
   "outputs": [],
   "source": [
    "3. variable name should not contain any special characters (!, @, $, %, &, *)"
   ]
  },
  {
   "cell_type": "code",
   "execution_count": 9,
   "id": "991c11e6",
   "metadata": {},
   "outputs": [
    {
     "ename": "SyntaxError",
     "evalue": "invalid syntax (Temp/ipykernel_3140/1310748919.py, line 1)",
     "output_type": "error",
     "traceback": [
      "\u001b[1;36m  File \u001b[1;32m\"C:\\Users\\HCL\\AppData\\Local\\Temp/ipykernel_3140/1310748919.py\"\u001b[1;36m, line \u001b[1;32m1\u001b[0m\n\u001b[1;33m    name% = 'Fayaz'\u001b[0m\n\u001b[1;37m          ^\u001b[0m\n\u001b[1;31mSyntaxError\u001b[0m\u001b[1;31m:\u001b[0m invalid syntax\n"
     ]
    }
   ],
   "source": [
    "name% = 'Fayaz'\n",
    "print(name%)"
   ]
  },
  {
   "cell_type": "code",
   "execution_count": 10,
   "id": "86c8d0bc",
   "metadata": {},
   "outputs": [
    {
     "name": "stdout",
     "output_type": "stream",
     "text": [
      "Fayaz\n"
     ]
    }
   ],
   "source": [
    "name = 'Fayaz'\n",
    "print(name)"
   ]
  },
  {
   "cell_type": "code",
   "execution_count": null,
   "id": "3012d252",
   "metadata": {},
   "outputs": [],
   "source": [
    "Commenting in python :\n",
    "    '#' is used for commenting lines in python\n",
    "    # my name is dhekshitha\n",
    "    # I am learning python programming"
   ]
  },
  {
   "cell_type": "code",
   "execution_count": null,
   "id": "3f80e461",
   "metadata": {},
   "outputs": [],
   "source": [
    "Data types in python :\n",
    "    1. strings\n",
    "    2. numbers --> int, float(decimal point numbers), complex(a+bj)\n",
    "    3. list\n",
    "    4. tuple\n",
    "    5. dictionary"
   ]
  },
  {
   "cell_type": "code",
   "execution_count": null,
   "id": "bba09269",
   "metadata": {},
   "outputs": [],
   "source": [
    "classification of datatypes :\n",
    "    The data types in python are braodly classified into :\n",
    "        1. mutable datatypes --> flexible datatype --  we can alter and edit\n",
    "        2. immutable datatypes --> fixed datatype   -- we cannot alter or edit"
   ]
  },
  {
   "cell_type": "code",
   "execution_count": null,
   "id": "dacf08b4",
   "metadata": {},
   "outputs": [],
   "source": [
    "strings:\n",
    "    strings are a sequence of characters enclosed by quotes.\n",
    "    There are three types of approaches :\n",
    "        1. single quotes\n",
    "        2. double quotes\n",
    "        3. triple quotes"
   ]
  },
  {
   "cell_type": "code",
   "execution_count": 11,
   "id": "70b3bd7b",
   "metadata": {},
   "outputs": [
    {
     "name": "stdout",
     "output_type": "stream",
     "text": [
      "banana\n"
     ]
    }
   ],
   "source": [
    "fruit = 'banana' #single quote\n",
    "print(fruit)"
   ]
  },
  {
   "cell_type": "code",
   "execution_count": 12,
   "id": "a11bc557",
   "metadata": {},
   "outputs": [
    {
     "name": "stdout",
     "output_type": "stream",
     "text": [
      "Rizwana\n"
     ]
    }
   ],
   "source": [
    "friend = \"Rizwana\"# double quotes\n",
    "print(friend)"
   ]
  },
  {
   "cell_type": "code",
   "execution_count": 13,
   "id": "7d46910c",
   "metadata": {},
   "outputs": [
    {
     "name": "stdout",
     "output_type": "stream",
     "text": [
      "Khasimbee\n"
     ]
    }
   ],
   "source": [
    "mother = \"\"\"Khasimbee\"\"\" #triple quotes\n",
    "print(mother)"
   ]
  },
  {
   "cell_type": "code",
   "execution_count": null,
   "id": "6cdea0c9",
   "metadata": {},
   "outputs": [],
   "source": []
  }
 ],
 "metadata": {
  "kernelspec": {
   "display_name": "Python 3 (ipykernel)",
   "language": "python",
   "name": "python3"
  },
  "language_info": {
   "codemirror_mode": {
    "name": "ipython",
    "version": 3
   },
   "file_extension": ".py",
   "mimetype": "text/x-python",
   "name": "python",
   "nbconvert_exporter": "python",
   "pygments_lexer": "ipython3",
   "version": "3.9.7"
  }
 },
 "nbformat": 4,
 "nbformat_minor": 5
}
